{
 "cells": [
  {
   "cell_type": "markdown",
   "id": "0c7fc65c",
   "metadata": {},
   "source": [
    "# Data Science Tools and Ecosystem"
   ]
  },
  {
   "cell_type": "markdown",
   "id": "61056bf2",
   "metadata": {},
   "source": [
    "In this notebook, Data Science Tools and Ecosystem are Summarized"
   ]
  },
  {
   "cell_type": "markdown",
   "id": "00288089",
   "metadata": {},
   "source": [
    "Some of the popular languages that Data Scientists use are:\n",
    "\n",
    "1. Python programming Language\n",
    "2. SQL Programming language\n",
    "3. R Programming Language\n",
    "4. Java Programming Language\n",
    "5. Javascript\n"
   ]
  },
  {
   "cell_type": "markdown",
   "id": "eeb88134",
   "metadata": {},
   "source": [
    "**Objectives:**\n",
    "\n",
    "- Popular Tools for data science used are Rapid Miner, Scikit Learn, Apache Hadoop, Tableau and Microsoft Power BI\n",
    "- Different Languages that a Data Scientist can use is Python, SQL, R Programming, Javascript and Java Programming Language\n",
    "- The libraries used by Data Scientists are Tensorflow, Pandas, Numpy, Scipy and Matplotlib\n",
    "- Different Arithmetic Operations like Addition, Subtraction, Multiplication and Division are used\n",
    "- Different Trends in Data Science are AI, Automated Machine Learning, Cloud Migration, IOT, Edge Computing"
   ]
  },
  {
   "cell_type": "markdown",
   "id": "807379d2",
   "metadata": {},
   "source": [
    "Some of the common libraries used by Data Scientists include:\n",
    "\n",
    "1. Tensorflow\n",
    "2. Pandas\n",
    "3. Numpy\n",
    "4. Matplotlib\n",
    "5. Scipy"
   ]
  },
  {
   "cell_type": "markdown",
   "id": "6f6ceec8",
   "metadata": {},
   "source": [
    "The Six Development source tools used in the Data Science are:\n",
    "\n",
    "| Data Science Tools      |\n",
    "| ------------------------|\n",
    "| 1. Rapid Miner          |\n",
    "| 2. Scikit-Learn         |\n",
    "| 3. Apache Hadoop        |\n",
    "| 4. Tableau              |\n",
    "| 5. Keras                |\n",
    "| 6. Microsoft Power BI   |\n"
   ]
  },
  {
   "cell_type": "markdown",
   "id": "9c5fe3c3",
   "metadata": {},
   "source": [
    "### Below are the few examples of evaluating Arithmetic Expressions in Python\n",
    "\n",
    "1. x+y - Addition or Summation\n",
    "2. x-y - Subtraction\n",
    "3. X x Y - Multiplication\n",
    "4. / - Division\n",
    "5. // - Quotient when division is applied\n",
    "6. % - Remainder when division is applied\n",
    "7. ** - Exponent when division is applied"
   ]
  },
  {
   "cell_type": "code",
   "execution_count": 1,
   "id": "5fb6df1b",
   "metadata": {},
   "outputs": [
    {
     "data": {
      "text/plain": [
       "17"
      ]
     },
     "execution_count": 1,
     "metadata": {},
     "output_type": "execute_result"
    }
   ],
   "source": [
    "#This is a simple Arithmetic Expression to multiply and add integers\n",
    "(3*4)+5\n"
   ]
  },
  {
   "cell_type": "code",
   "execution_count": 3,
   "id": "d14e72cf",
   "metadata": {},
   "outputs": [
    {
     "name": "stdout",
     "output_type": "stream",
     "text": [
      "200 minutes is equal to 3.3333333333333335 hours.\n"
     ]
    }
   ],
   "source": [
    "#This will convert 200 minutes to hours by dividing by 60\n",
    "minutes = 200\n",
    "hours = minutes/60\n",
    "print(f\"{minutes} minutes is equal to {hours} hours.\")"
   ]
  },
  {
   "cell_type": "markdown",
   "id": "0fa1f519",
   "metadata": {},
   "source": [
    "## Author\n",
    "\n",
    "LANKA KASHYAP"
   ]
  },
  {
   "cell_type": "code",
   "execution_count": null,
   "id": "a0e9d28a",
   "metadata": {},
   "outputs": [],
   "source": []
  }
 ],
 "metadata": {
  "kernelspec": {
   "display_name": "Python 3 (ipykernel)",
   "language": "python",
   "name": "python3"
  },
  "language_info": {
   "codemirror_mode": {
    "name": "ipython",
    "version": 3
   },
   "file_extension": ".py",
   "mimetype": "text/x-python",
   "name": "python",
   "nbconvert_exporter": "python",
   "pygments_lexer": "ipython3",
   "version": "3.9.13"
  }
 },
 "nbformat": 4,
 "nbformat_minor": 5
}
